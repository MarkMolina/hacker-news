{
 "cells": [
  {
   "cell_type": "markdown",
   "id": "97bdbfcb",
   "metadata": {},
   "source": [
    "# Hacker News\n",
    "## Ask HN vs Show HN\n",
    "\n",
    "Hacker News is a site started by the startup incubator Y Combinator, where user-submitted stories (known as \"posts\") receive votes and comments, similar to reddit. Hacker News is extremely popular in technology and startup circles, and posts that make it to the top of the Hacker News listings can get hundreds of thousands of visitors as a result.\n",
    "\n",
    "We're going to determine which hour of the day the author should create the post so it yields the most comments.\n",
    "\n",
    "You can find the data set [here](https://www.kaggle.com/datasets/hacker-news/hacker-news-posts)."
   ]
  },
  {
   "cell_type": "markdown",
   "id": "6726a076",
   "metadata": {},
   "source": [
    "We start with importing our dataset."
   ]
  },
  {
   "cell_type": "code",
   "execution_count": 119,
   "id": "6d2159aa",
   "metadata": {},
   "outputs": [],
   "source": [
    "from csv import reader\n",
    "opened_file = open(\"datasets/HackerNews.csv\")\n",
    "read_file = reader(opened_file)\n",
    "dataset = list(read_file)"
   ]
  },
  {
   "cell_type": "markdown",
   "id": "26126d40",
   "metadata": {},
   "source": [
    "These are the first 5 rows. \n",
    "`row[0]` is the header which we'll extract into it's own variable."
   ]
  },
  {
   "cell_type": "code",
   "execution_count": 120,
   "id": "367da565",
   "metadata": {},
   "outputs": [
    {
     "name": "stdout",
     "output_type": "stream",
     "text": [
      "['12579008', 'You have two days to comment if you want stem cells to be classified as your own', 'http://www.regulations.gov/document?D=FDA-2015-D-3719-0018', '1', '0', 'altstar', '9/26/2016 3:26']\n",
      "---\n",
      "['12579005', 'SQLAR  the SQLite Archiver', 'https://www.sqlite.org/sqlar/doc/trunk/README.md', '1', '0', 'blacksqr', '9/26/2016 3:24']\n",
      "---\n",
      "['12578997', 'What if we just printed a flatscreen television on the side of our boxes?', 'https://medium.com/vanmoof/our-secrets-out-f21c1f03fdc8#.ietxmez43', '1', '0', 'pavel_lishin', '9/26/2016 3:19']\n",
      "---\n",
      "['12578989', 'algorithmic music', 'http://cacm.acm.org/magazines/2011/7/109891-algorithmic-composition/fulltext', '1', '0', 'poindontcare', '9/26/2016 3:16']\n",
      "---\n",
      "['12578979', 'How the Data Vault Enables the Next-Gen Data Warehouse and Data Lake', 'https://www.talend.com/blog/2016/05/12/talend-and-Â\\x93the-data-vaultÂ\\x94', '1', '0', 'markgainor1', '9/26/2016 3:14']\n",
      "---\n"
     ]
    }
   ],
   "source": [
    "header = dataset.pop(0)\n",
    "\n",
    "for row in dataset[:5]:\n",
    "    \n",
    "    print(row)\n",
    "    print(\"---\")"
   ]
  },
  {
   "cell_type": "markdown",
   "id": "ac337957",
   "metadata": {},
   "source": [
    "Our dataset contains these headers.\n",
    "\n",
    "* <span style='color:red'>id</span>: the unique identifier from Hacker News for the post\n",
    "* <span style='color:red'>title</span>: the title of the post\n",
    "* <span style='color:red'>url</span>: the URL that the posts links to, if the post has a URL\n",
    "* <span style='color:red'>num_points</span>: the number of points the post acquired, calculated as the total number of upvotes minus the total number of downvotes\n",
    "* <span style='color:red'>num_comments</span>: the number of comments on the post\n",
    "* <span style='color:red'>author</span>: the username of the person who submitted the post\n",
    "* <span style='color:red'>created_at</span>: the date and time of the post's submission"
   ]
  },
  {
   "cell_type": "code",
   "execution_count": 121,
   "id": "3ebd95f3",
   "metadata": {},
   "outputs": [
    {
     "name": "stdout",
     "output_type": "stream",
     "text": [
      "['id', 'title', 'url', 'num_points', 'num_comments', 'author', 'created_at']\n"
     ]
    }
   ],
   "source": [
    "print(header)"
   ]
  },
  {
   "cell_type": "markdown",
   "id": "c20b13f9",
   "metadata": {},
   "source": [
    "Now that we've removed the headers from the dataset, we're ready to filter our data. Since we're only concerned with post titles beginning with \"Ask HN\" or \"Show HN\", we'll create new lists of lists containing just the data for those titles."
   ]
  },
  {
   "cell_type": "code",
   "execution_count": 122,
   "id": "bbce26c0",
   "metadata": {},
   "outputs": [
    {
     "name": "stdout",
     "output_type": "stream",
     "text": [
      "9139\n",
      "10158\n",
      "273822\n"
     ]
    }
   ],
   "source": [
    "ask_posts = []\n",
    "show_posts = []\n",
    "other_posts = []\n",
    "\n",
    "for row in dataset:\n",
    "    \n",
    "    title = row[1].lower()\n",
    "    \n",
    "    if title.startswith(\"ask hn\"):\n",
    "        \n",
    "        ask_posts.append(row)\n",
    "    elif title.startswith(\"show hn\"):\n",
    "        \n",
    "        show_posts.append(row)\n",
    "    else:\n",
    "        other_posts.append(row)\n",
    "        \n",
    "        \n",
    "#print the number of posts\n",
    "print(len(ask_posts))\n",
    "print(len(show_posts))\n",
    "print(len(other_posts))"
   ]
  },
  {
   "cell_type": "markdown",
   "id": "e3ae50fa",
   "metadata": {},
   "source": [
    "Examples of ask posts"
   ]
  },
  {
   "cell_type": "code",
   "execution_count": 123,
   "id": "bf4d5a24",
   "metadata": {},
   "outputs": [
    {
     "name": "stdout",
     "output_type": "stream",
     "text": [
      "[['12578908', 'Ask HN: What TLD do you use for local development?', '', '4', '7', 'Sevrene', '9/26/2016 2:53'], ['12578522', 'Ask HN: How do you pass on your work when you die?', '', '6', '3', 'PascLeRasc', '9/26/2016 1:17'], ['12577908', 'Ask HN: How a DNS problem can be limited to a geographic region?', '', '1', '0', 'kuon', '9/25/2016 22:57'], ['12577870', 'Ask HN: Why join a fund when you can be an angel?', '', '1', '3', 'anthony_james', '9/25/2016 22:48'], ['12577647', 'Ask HN: Someone uses stock trading as passive income?', '', '5', '2', '00taffe', '9/25/2016 21:50']]\n"
     ]
    }
   ],
   "source": [
    "print(ask_posts[:5])"
   ]
  },
  {
   "cell_type": "markdown",
   "id": "e48eae37",
   "metadata": {},
   "source": [
    "Examples of show posts"
   ]
  },
  {
   "cell_type": "code",
   "execution_count": 124,
   "id": "33514d99",
   "metadata": {},
   "outputs": [
    {
     "name": "stdout",
     "output_type": "stream",
     "text": [
      "[['12578335', 'Show HN: Finding puns computationally', 'http://puns.samueltaylor.org/', '2', '0', 'saamm', '9/26/2016 0:36'], ['12578182', 'Show HN: A simple library for complicated animations', 'https://christinecha.github.io/choreographer-js/', '1', '0', 'christinecha', '9/26/2016 0:01'], ['12578098', 'Show HN: WebGL visualization of DNA sequences', 'http://grondilu.github.io/dna.html', '1', '0', 'grondilu', '9/25/2016 23:44'], ['12577991', 'Show HN: Pomodoro-centric, heirarchical project management with ES6 modules', 'https://github.com/jakebian/zeal', '2', '0', 'dbranes', '9/25/2016 23:17'], ['12577142', 'Show HN: Jumble  Essays on the go #PaulInYourPocket', 'https://itunes.apple.com/us/app/jumble-find-startup-essay/id1150939197?ls=1&mt=8', '1', '1', 'ryderj', '9/25/2016 20:06']]\n"
     ]
    }
   ],
   "source": [
    "print(show_posts[:5])"
   ]
  },
  {
   "cell_type": "markdown",
   "id": "4a801343",
   "metadata": {},
   "source": [
    "Examples of other posts"
   ]
  },
  {
   "cell_type": "code",
   "execution_count": 125,
   "id": "d4087a90",
   "metadata": {},
   "outputs": [
    {
     "name": "stdout",
     "output_type": "stream",
     "text": [
      "[['12579008', 'You have two days to comment if you want stem cells to be classified as your own', 'http://www.regulations.gov/document?D=FDA-2015-D-3719-0018', '1', '0', 'altstar', '9/26/2016 3:26'], ['12579005', 'SQLAR  the SQLite Archiver', 'https://www.sqlite.org/sqlar/doc/trunk/README.md', '1', '0', 'blacksqr', '9/26/2016 3:24'], ['12578997', 'What if we just printed a flatscreen television on the side of our boxes?', 'https://medium.com/vanmoof/our-secrets-out-f21c1f03fdc8#.ietxmez43', '1', '0', 'pavel_lishin', '9/26/2016 3:19'], ['12578989', 'algorithmic music', 'http://cacm.acm.org/magazines/2011/7/109891-algorithmic-composition/fulltext', '1', '0', 'poindontcare', '9/26/2016 3:16'], ['12578979', 'How the Data Vault Enables the Next-Gen Data Warehouse and Data Lake', 'https://www.talend.com/blog/2016/05/12/talend-and-Â\\x93the-data-vaultÂ\\x94', '1', '0', 'markgainor1', '9/26/2016 3:14']]\n"
     ]
    }
   ],
   "source": [
    "print(other_posts[:5])"
   ]
  },
  {
   "cell_type": "markdown",
   "id": "636d1f4d",
   "metadata": {},
   "source": [
    "## Number of comments for ask vs show\n",
    "Let's determine if ask posts or show posts receive more comments on average."
   ]
  },
  {
   "cell_type": "code",
   "execution_count": 126,
   "id": "ead0baee",
   "metadata": {},
   "outputs": [
    {
     "name": "stdout",
     "output_type": "stream",
     "text": [
      "Ask HN post get 10.39 comments on average\n"
     ]
    }
   ],
   "source": [
    "total_ask_comments = 0\n",
    "\n",
    "for row in ask_posts:\n",
    "    \n",
    "    num_comments = int(row[4])\n",
    "    total_ask_comments += num_comments\n",
    "    \n",
    "avg_ask_comments = total_ask_comments / len(ask_posts)\n",
    "print(\"Ask HN post get {:.2f} comments on average\".format(avg_ask_comments))"
   ]
  },
  {
   "cell_type": "code",
   "execution_count": 127,
   "id": "3a0de87f",
   "metadata": {},
   "outputs": [
    {
     "name": "stdout",
     "output_type": "stream",
     "text": [
      "Show HN post get 4.89 comments on average\n"
     ]
    }
   ],
   "source": [
    "total_show_comments = 0\n",
    "\n",
    "for row in show_posts:\n",
    "    \n",
    "    num_comments = int(row[4])\n",
    "    total_show_comments += num_comments\n",
    "    \n",
    "avg_show_comments = total_show_comments / len(show_posts)\n",
    "print(\"Show HN post get {:.2f} comments on average\".format(avg_show_comments))"
   ]
  },
  {
   "cell_type": "markdown",
   "id": "283b4ea5",
   "metadata": {},
   "source": [
    "On average we see more interaction from the userbase on posts that start with *\"Ask HN\"*. This indicates that the author plans to ask a question to the communicaty and expects the users to reply with a comment. This could be the reason *\"Ask HN\"* posts get more comments (**10.39** on average) compared to *\"Show HN posts\"* (**4.89** on average)"
   ]
  },
  {
   "cell_type": "markdown",
   "id": "30e930cc",
   "metadata": {},
   "source": [
    "## Finding the Number of Ask Posts and Comments by Hour Created"
   ]
  },
  {
   "cell_type": "markdown",
   "id": "fd06e938",
   "metadata": {},
   "source": [
    "We've concluded that, on average, ask posts receive more comments than show posts. Since ask posts are more likely to receive comments, we'll focus our remaining analysis just on these posts.\n",
    "\n",
    "Let's determine if ask posts created at a certain time are more likely to attract comments. We will\n",
    "\n",
    "1. Calculate the number of ask posts created in each hour of the day, along with the number of comments received.\n",
    "2. Calculate the average number of comments ask posts receive by hour created."
   ]
  },
  {
   "cell_type": "code",
   "execution_count": 128,
   "id": "7deb3118",
   "metadata": {},
   "outputs": [],
   "source": [
    "from datetime import datetime as datetime_module\n",
    "\n",
    "result_list = []\n",
    "\n",
    "for row in ask_posts:\n",
    "    \n",
    "    created_at = datetime_module.strptime(row[6], \"%m/%d/%Y %H:%M\")\n",
    "    comments_count = int(row[4])\n",
    "    item = [created_at, comments_count]\n",
    "    result_list.append(item)"
   ]
  },
  {
   "cell_type": "code",
   "execution_count": 129,
   "id": "0f0056af",
   "metadata": {},
   "outputs": [],
   "source": [
    "counts_by_hour = {}\n",
    "comments_by_hour = {}\n",
    "\n",
    "for row in result_list:\n",
    "    \n",
    "    hour = datetime_module.strftime(row[0], \"%H\")\n",
    "    \n",
    "    if hour not in counts_by_hour:\n",
    "        \n",
    "        counts_by_hour[hour] = 1\n",
    "        comments_by_hour[hour] = row[1]\n",
    "    else:\n",
    "        counts_by_hour[hour] += 1\n",
    "        comments_by_hour[hour] += row[1]"
   ]
  },
  {
   "cell_type": "markdown",
   "id": "218e3a8e",
   "metadata": {},
   "source": [
    "* **counts_by_hour**: contains the number of ask posts created during each hour of the day.\n",
    "* **comments_by_hour**: contains the corresponding number of comments ask posts created at each hour received."
   ]
  },
  {
   "cell_type": "code",
   "execution_count": 135,
   "id": "1f45538b",
   "metadata": {},
   "outputs": [
    {
     "name": "stdout",
     "output_type": "stream",
     "text": [
      "hour: 00 - posts: 301\n",
      "hour: 01 - posts: 282\n",
      "hour: 02 - posts: 269\n",
      "hour: 03 - posts: 271\n",
      "hour: 04 - posts: 243\n",
      "hour: 05 - posts: 209\n",
      "hour: 06 - posts: 234\n",
      "hour: 07 - posts: 226\n",
      "hour: 08 - posts: 257\n",
      "hour: 09 - posts: 222\n",
      "hour: 10 - posts: 282\n",
      "hour: 11 - posts: 312\n",
      "hour: 12 - posts: 342\n",
      "hour: 13 - posts: 444\n",
      "hour: 14 - posts: 513\n",
      "hour: 15 - posts: 646\n",
      "hour: 16 - posts: 579\n",
      "hour: 17 - posts: 587\n",
      "hour: 18 - posts: 614\n",
      "hour: 19 - posts: 552\n",
      "hour: 20 - posts: 510\n",
      "hour: 21 - posts: 518\n",
      "hour: 22 - posts: 383\n",
      "hour: 23 - posts: 343\n"
     ]
    }
   ],
   "source": [
    "for i in sorted(counts_by_hour):\n",
    "    print(\"hour: {} - posts: {}\".format(i, counts_by_hour[i]))"
   ]
  },
  {
   "cell_type": "code",
   "execution_count": 136,
   "id": "d3987099",
   "metadata": {},
   "outputs": [
    {
     "name": "stdout",
     "output_type": "stream",
     "text": [
      "hour: 00 : comments: 2277\n",
      "hour: 01 : comments: 2089\n",
      "hour: 02 : comments: 2996\n",
      "hour: 03 : comments: 2154\n",
      "hour: 04 : comments: 2360\n",
      "hour: 05 : comments: 1838\n",
      "hour: 06 : comments: 1587\n",
      "hour: 07 : comments: 1585\n",
      "hour: 08 : comments: 2362\n",
      "hour: 09 : comments: 1477\n",
      "hour: 10 : comments: 3013\n",
      "hour: 11 : comments: 2797\n",
      "hour: 12 : comments: 4234\n",
      "hour: 13 : comments: 7245\n",
      "hour: 14 : comments: 4972\n",
      "hour: 15 : comments: 18525\n",
      "hour: 16 : comments: 4466\n",
      "hour: 17 : comments: 5547\n",
      "hour: 18 : comments: 4877\n",
      "hour: 19 : comments: 3954\n",
      "hour: 20 : comments: 4462\n",
      "hour: 21 : comments: 4500\n",
      "hour: 22 : comments: 3372\n",
      "hour: 23 : comments: 2297\n"
     ]
    }
   ],
   "source": [
    "for i in sorted(comments_by_hour):\n",
    "    print(\"hour: {} : comments: {}\".format(i, comments_by_hour[i]))"
   ]
  },
  {
   "cell_type": "markdown",
   "id": "9477e59d",
   "metadata": {},
   "source": [
    "### Calculating the average number of comments per post for posts created during each hour of the day"
   ]
  },
  {
   "cell_type": "code",
   "execution_count": 132,
   "id": "e03b5376",
   "metadata": {},
   "outputs": [],
   "source": [
    "avg_by_hour = []\n",
    "\n",
    "for key in counts_by_hour:\n",
    "    \n",
    "    post_count = counts_by_hour[key]\n",
    "    comment_count = comments_by_hour[key]\n",
    "    avg_by_hour.append([key, comment_count / post_count])"
   ]
  },
  {
   "cell_type": "markdown",
   "id": "147250e6",
   "metadata": {},
   "source": [
    "Let's improve the readability"
   ]
  },
  {
   "cell_type": "code",
   "execution_count": 133,
   "id": "d3aef97d",
   "metadata": {},
   "outputs": [
    {
     "name": "stdout",
     "output_type": "stream",
     "text": [
      "Top 5 Hours for Ask Posts Comments\n",
      "15:00: 28.68 average comments per post\n",
      "13:00: 16.32 average comments per post\n",
      "12:00: 12.38 average comments per post\n",
      "02:00: 11.14 average comments per post\n",
      "10:00: 10.68 average comments per post\n"
     ]
    }
   ],
   "source": [
    "swap_avg_by_hour = []\n",
    "\n",
    "for l in avg_by_hour:\n",
    "    swap_avg_by_hour.append([l[1], l[0]])\n",
    "    \n",
    "sorted_swap = sorted(swap_avg_by_hour, reverse=True)\n",
    "\n",
    "print(\"Top 5 Hours for Ask Posts Comments\")\n",
    "\n",
    "for l in sorted_swap[:5]:\n",
    "    \n",
    "    print(\"{hour}:00: {count:.2f} average comments per post\".format(hour=l[1], count=l[0]))"
   ]
  },
  {
   "cell_type": "markdown",
   "id": "7fdcd521",
   "metadata": {},
   "source": [
    "We can conclude that's creating a post during **15:00** or **13:00** yields the best results when we want to maximize the chance of receiving comments.\n",
    "\n",
    "This is most likely the end of a workday or during a lunch break for most of the users visiting the Hacker News website."
   ]
  }
 ],
 "metadata": {
  "kernelspec": {
   "display_name": "Python 3 (ipykernel)",
   "language": "python",
   "name": "python3"
  },
  "language_info": {
   "codemirror_mode": {
    "name": "ipython",
    "version": 3
   },
   "file_extension": ".py",
   "mimetype": "text/x-python",
   "name": "python",
   "nbconvert_exporter": "python",
   "pygments_lexer": "ipython3",
   "version": "3.9.13"
  }
 },
 "nbformat": 4,
 "nbformat_minor": 5
}

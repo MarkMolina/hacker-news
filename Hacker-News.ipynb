{
 "cells": [
  {
   "cell_type": "markdown",
   "id": "b8379a66",
   "metadata": {},
   "source": [
    "# Hacker News\n",
    "## Ask HN vs Show HN\n",
    "\n",
    "Hacker News is a site started by the startup incubator Y Combinator, where user-submitted stories (known as \"posts\") receive votes and comments, similar to reddit. Hacker News is extremely popular in technology and startup circles, and posts that make it to the top of the Hacker News listings can get hundreds of thousands of visitors as a result.\n",
    "\n",
    "We're going to determine which hour of the day yields the most comments \n",
    "\n",
    "You can find the data set [here](https://www.kaggle.com/datasets/hacker-news/hacker-news-posts)."
   ]
  },
  {
   "cell_type": "markdown",
   "id": "ab706ca7",
   "metadata": {},
   "source": [
    "We start with importing our dataset."
   ]
  },
  {
   "cell_type": "code",
   "execution_count": 63,
   "id": "abc7e4be",
   "metadata": {},
   "outputs": [],
   "source": [
    "from csv import reader\n",
    "opened_file = open(\"datasets/HackerNews.csv\")\n",
    "read_file = reader(opened_file)\n",
    "dataset = list(read_file)"
   ]
  },
  {
   "cell_type": "markdown",
   "id": "c5350e3e",
   "metadata": {},
   "source": [
    "These are the first 5 rows. \n",
    "row[0] is the header which we'll extract into it's own variable."
   ]
  },
  {
   "cell_type": "code",
   "execution_count": 64,
   "id": "57c00c1c",
   "metadata": {},
   "outputs": [
    {
     "name": "stdout",
     "output_type": "stream",
     "text": [
      "['12579008', 'You have two days to comment if you want stem cells to be classified as your own', 'http://www.regulations.gov/document?D=FDA-2015-D-3719-0018', '1', '0', 'altstar', '9/26/2016 3:26']\n",
      "---\n",
      "['12579005', 'SQLAR  the SQLite Archiver', 'https://www.sqlite.org/sqlar/doc/trunk/README.md', '1', '0', 'blacksqr', '9/26/2016 3:24']\n",
      "---\n",
      "['12578997', 'What if we just printed a flatscreen television on the side of our boxes?', 'https://medium.com/vanmoof/our-secrets-out-f21c1f03fdc8#.ietxmez43', '1', '0', 'pavel_lishin', '9/26/2016 3:19']\n",
      "---\n",
      "['12578989', 'algorithmic music', 'http://cacm.acm.org/magazines/2011/7/109891-algorithmic-composition/fulltext', '1', '0', 'poindontcare', '9/26/2016 3:16']\n",
      "---\n",
      "['12578979', 'How the Data Vault Enables the Next-Gen Data Warehouse and Data Lake', 'https://www.talend.com/blog/2016/05/12/talend-and-Â\\x93the-data-vaultÂ\\x94', '1', '0', 'markgainor1', '9/26/2016 3:14']\n",
      "---\n"
     ]
    }
   ],
   "source": [
    "header = dataset.pop(0)\n",
    "\n",
    "for row in dataset[:5]:\n",
    "    \n",
    "    print(row)\n",
    "    print(\"---\")"
   ]
  },
  {
   "cell_type": "markdown",
   "id": "8c6793e8",
   "metadata": {},
   "source": [
    "Our dataset contains these headers.\n",
    "\n",
    "* <span style='color:red'>id</span>: the unique identifier from Hacker News for the post\n",
    "* <span style='color:red'>title</span>: the title of the post\n",
    "* <span style='color:red'>url</span>: the URL that the posts links to, if the post has a URL\n",
    "* <span style='color:red'>num_points</span>: the number of points the post acquired, calculated as the total number of upvotes minus the total number of downvotes\n",
    "* <span style='color:red'>num_comments</span>: the number of comments on the post\n",
    "* <span style='color:red'>author</span>: the username of the person who submitted the post\n",
    "* <span style='color:red'>created_at</span>: the date and time of the post's submission"
   ]
  },
  {
   "cell_type": "code",
   "execution_count": 65,
   "id": "2d7004f3",
   "metadata": {},
   "outputs": [
    {
     "name": "stdout",
     "output_type": "stream",
     "text": [
      "['id', 'title', 'url', 'num_points', 'num_comments', 'author', 'created_at']\n"
     ]
    }
   ],
   "source": [
    "print(header)"
   ]
  },
  {
   "cell_type": "markdown",
   "id": "99204b83",
   "metadata": {},
   "source": [
    "Now that we've removed the headers from hn, we're ready to filter our data. Since we're only concerned with post titles beginning with Ask HN or Show HN, we'll create new lists of lists containing just the data for those titles."
   ]
  },
  {
   "cell_type": "code",
   "execution_count": 66,
   "id": "97c90092",
   "metadata": {},
   "outputs": [
    {
     "name": "stdout",
     "output_type": "stream",
     "text": [
      "9139\n",
      "10158\n",
      "273822\n"
     ]
    }
   ],
   "source": [
    "ask_posts = []\n",
    "show_posts = []\n",
    "other_posts = []\n",
    "\n",
    "for row in dataset:\n",
    "    \n",
    "    title = row[1].lower()\n",
    "    \n",
    "    if title.startswith(\"ask hn\"):\n",
    "        \n",
    "        ask_posts.append(row)\n",
    "    elif title.startswith(\"show hn\"):\n",
    "        \n",
    "        show_posts.append(row)\n",
    "    else:\n",
    "        other_posts.append(row)\n",
    "        \n",
    "        \n",
    "#print the number of posts\n",
    "print(len(ask_posts))\n",
    "print(len(show_posts))\n",
    "print(len(other_posts))"
   ]
  },
  {
   "cell_type": "markdown",
   "id": "d6b15a54",
   "metadata": {},
   "source": [
    "Examples of ask posts"
   ]
  },
  {
   "cell_type": "code",
   "execution_count": 67,
   "id": "d1c74bcf",
   "metadata": {},
   "outputs": [
    {
     "name": "stdout",
     "output_type": "stream",
     "text": [
      "[['12578908', 'Ask HN: What TLD do you use for local development?', '', '4', '7', 'Sevrene', '9/26/2016 2:53'], ['12578522', 'Ask HN: How do you pass on your work when you die?', '', '6', '3', 'PascLeRasc', '9/26/2016 1:17'], ['12577908', 'Ask HN: How a DNS problem can be limited to a geographic region?', '', '1', '0', 'kuon', '9/25/2016 22:57'], ['12577870', 'Ask HN: Why join a fund when you can be an angel?', '', '1', '3', 'anthony_james', '9/25/2016 22:48'], ['12577647', 'Ask HN: Someone uses stock trading as passive income?', '', '5', '2', '00taffe', '9/25/2016 21:50']]\n"
     ]
    }
   ],
   "source": [
    "print(ask_posts[:5])"
   ]
  },
  {
   "cell_type": "markdown",
   "id": "4ad6ec09",
   "metadata": {},
   "source": [
    "Examples of show posts"
   ]
  },
  {
   "cell_type": "code",
   "execution_count": 68,
   "id": "47629612",
   "metadata": {},
   "outputs": [
    {
     "name": "stdout",
     "output_type": "stream",
     "text": [
      "[['12578335', 'Show HN: Finding puns computationally', 'http://puns.samueltaylor.org/', '2', '0', 'saamm', '9/26/2016 0:36'], ['12578182', 'Show HN: A simple library for complicated animations', 'https://christinecha.github.io/choreographer-js/', '1', '0', 'christinecha', '9/26/2016 0:01'], ['12578098', 'Show HN: WebGL visualization of DNA sequences', 'http://grondilu.github.io/dna.html', '1', '0', 'grondilu', '9/25/2016 23:44'], ['12577991', 'Show HN: Pomodoro-centric, heirarchical project management with ES6 modules', 'https://github.com/jakebian/zeal', '2', '0', 'dbranes', '9/25/2016 23:17'], ['12577142', 'Show HN: Jumble  Essays on the go #PaulInYourPocket', 'https://itunes.apple.com/us/app/jumble-find-startup-essay/id1150939197?ls=1&mt=8', '1', '1', 'ryderj', '9/25/2016 20:06']]\n"
     ]
    }
   ],
   "source": [
    "print(show_posts[:5])"
   ]
  },
  {
   "cell_type": "markdown",
   "id": "be8577c4",
   "metadata": {},
   "source": [
    "Examples of other posts"
   ]
  },
  {
   "cell_type": "code",
   "execution_count": 69,
   "id": "e0ff9762",
   "metadata": {},
   "outputs": [
    {
     "name": "stdout",
     "output_type": "stream",
     "text": [
      "[['12579008', 'You have two days to comment if you want stem cells to be classified as your own', 'http://www.regulations.gov/document?D=FDA-2015-D-3719-0018', '1', '0', 'altstar', '9/26/2016 3:26'], ['12579005', 'SQLAR  the SQLite Archiver', 'https://www.sqlite.org/sqlar/doc/trunk/README.md', '1', '0', 'blacksqr', '9/26/2016 3:24'], ['12578997', 'What if we just printed a flatscreen television on the side of our boxes?', 'https://medium.com/vanmoof/our-secrets-out-f21c1f03fdc8#.ietxmez43', '1', '0', 'pavel_lishin', '9/26/2016 3:19'], ['12578989', 'algorithmic music', 'http://cacm.acm.org/magazines/2011/7/109891-algorithmic-composition/fulltext', '1', '0', 'poindontcare', '9/26/2016 3:16'], ['12578979', 'How the Data Vault Enables the Next-Gen Data Warehouse and Data Lake', 'https://www.talend.com/blog/2016/05/12/talend-and-Â\\x93the-data-vaultÂ\\x94', '1', '0', 'markgainor1', '9/26/2016 3:14']]\n"
     ]
    }
   ],
   "source": [
    "print(other_posts[:5])"
   ]
  },
  {
   "cell_type": "markdown",
   "id": "550b37e1",
   "metadata": {},
   "source": [
    "## Number of comments for ask vs show\n",
    "Let's determine if ask posts or show posts receive more comments on average."
   ]
  },
  {
   "cell_type": "code",
   "execution_count": 70,
   "id": "3000b42d",
   "metadata": {},
   "outputs": [
    {
     "name": "stdout",
     "output_type": "stream",
     "text": [
      "Ask HN post get 10.39 comments on average\n"
     ]
    }
   ],
   "source": [
    "total_ask_comments = 0\n",
    "\n",
    "for row in ask_posts:\n",
    "    \n",
    "    num_comments = int(row[4])\n",
    "    total_ask_comments += num_comments\n",
    "    \n",
    "avg_ask_comments = total_ask_comments / len(ask_posts)\n",
    "print(\"Ask HN post get {:.2f} comments on average\".format(avg_ask_comments))"
   ]
  },
  {
   "cell_type": "code",
   "execution_count": 71,
   "id": "b9119544",
   "metadata": {},
   "outputs": [
    {
     "name": "stdout",
     "output_type": "stream",
     "text": [
      "Show HN post get 4.89 comments on average\n"
     ]
    }
   ],
   "source": [
    "total_show_comments = 0\n",
    "\n",
    "for row in show_posts:\n",
    "    \n",
    "    num_comments = int(row[4])\n",
    "    total_show_comments += num_comments\n",
    "    \n",
    "avg_show_comments = total_show_comments / len(show_posts)\n",
    "print(\"Show HN post get {:.2f} comments on average\".format(avg_show_comments))"
   ]
  },
  {
   "cell_type": "markdown",
   "id": "781fde60",
   "metadata": {},
   "source": [
    "On average we see more interaction from the userbase on posts that start with *\"Ask HN\"*. This indicates that the author plans to ask a question to the communicaty and expects the users to reply with a comment. This could be the reason *\"Ask HN\"* posts get more comments (**10.39** on average) compared to *\"Show HN posts\"* (**4.89** on average)"
   ]
  },
  {
   "cell_type": "markdown",
   "id": "e3df994f",
   "metadata": {},
   "source": [
    "## Finding the Number of Ask Posts and Comments by Hour Created"
   ]
  },
  {
   "cell_type": "markdown",
   "id": "6684927d",
   "metadata": {},
   "source": [
    "We've concluded that, on average, ask posts receive more comments than show posts. Since ask posts are more likely to receive comments, we'll focus our remaining analysis just on these posts.\n",
    "\n",
    "Let's determine if ask posts created at a certain time are more likely to attract comments. We will\n",
    "\n",
    "1. Calculate the number of ask posts created in each hour of the day, along with the number of comments received.\n",
    "2. Calculate the average number of comments ask posts receive by hour created."
   ]
  },
  {
   "cell_type": "code",
   "execution_count": 83,
   "id": "20a3c9d0",
   "metadata": {},
   "outputs": [],
   "source": [
    "from datetime import datetime as datetime_module\n",
    "\n",
    "result_list = []\n",
    "\n",
    "for row in ask_posts:\n",
    "    \n",
    "    created_at = datetime_module.strptime(row[6], \"%m/%d/%Y %H:%M\")\n",
    "    comments_count = int(row[4])\n",
    "    item = [created_at, comments_count]\n",
    "    result_list.append(item)"
   ]
  },
  {
   "cell_type": "code",
   "execution_count": 90,
   "id": "69ea0a1b",
   "metadata": {},
   "outputs": [],
   "source": [
    "counts_by_hour = {}\n",
    "comments_by_hour = {}\n",
    "\n",
    "for row in result_list:\n",
    "    \n",
    "    hour = datetime_module.strftime(row[0], \"%H\")\n",
    "    \n",
    "    if hour not in counts_by_hour:\n",
    "        \n",
    "        counts_by_hour[hour] = 1\n",
    "        comments_by_hour[hour] = row[1]\n",
    "    else:\n",
    "        counts_by_hour[hour] += 1\n",
    "        comments_by_hour[hour] += row[1]"
   ]
  },
  {
   "cell_type": "markdown",
   "id": "1f14045d",
   "metadata": {},
   "source": [
    "* **counts_by_hour**: contains the number of ask posts created during each hour of the day.\n",
    "* **comments_by_hour**: contains the corresponding number of comments ask posts created at each hour received."
   ]
  },
  {
   "cell_type": "code",
   "execution_count": 96,
   "id": "42690a70",
   "metadata": {},
   "outputs": [
    {
     "name": "stdout",
     "output_type": "stream",
     "text": [
      "00 : 301\n",
      "01 : 282\n",
      "02 : 269\n",
      "03 : 271\n",
      "04 : 243\n",
      "05 : 209\n",
      "06 : 234\n",
      "07 : 226\n",
      "08 : 257\n",
      "09 : 222\n",
      "10 : 282\n",
      "11 : 312\n",
      "12 : 342\n",
      "13 : 444\n",
      "14 : 513\n",
      "15 : 646\n",
      "16 : 579\n",
      "17 : 587\n",
      "18 : 614\n",
      "19 : 552\n",
      "20 : 510\n",
      "21 : 518\n",
      "22 : 383\n",
      "23 : 343\n"
     ]
    }
   ],
   "source": [
    "for i in sorted(counts_by_hour):\n",
    "    print(\"{} : {}\".format(i, counts_by_hour[i]))"
   ]
  },
  {
   "cell_type": "code",
   "execution_count": 97,
   "id": "69a7b6e9",
   "metadata": {},
   "outputs": [
    {
     "name": "stdout",
     "output_type": "stream",
     "text": [
      "00 : 2277\n",
      "01 : 2089\n",
      "02 : 2996\n",
      "03 : 2154\n",
      "04 : 2360\n",
      "05 : 1838\n",
      "06 : 1587\n",
      "07 : 1585\n",
      "08 : 2362\n",
      "09 : 1477\n",
      "10 : 3013\n",
      "11 : 2797\n",
      "12 : 4234\n",
      "13 : 7245\n",
      "14 : 4972\n",
      "15 : 18525\n",
      "16 : 4466\n",
      "17 : 5547\n",
      "18 : 4877\n",
      "19 : 3954\n",
      "20 : 4462\n",
      "21 : 4500\n",
      "22 : 3372\n",
      "23 : 2297\n"
     ]
    }
   ],
   "source": [
    "for i in sorted(comments_by_hour):\n",
    "    print(\"{} : {}\".format(i, comments_by_hour[i]))"
   ]
  },
  {
   "cell_type": "markdown",
   "id": "37799ca1",
   "metadata": {},
   "source": [
    "### Calculating the average number of comments per post for posts created during each hour of the day"
   ]
  },
  {
   "cell_type": "code",
   "execution_count": 107,
   "id": "898bcd26",
   "metadata": {},
   "outputs": [],
   "source": [
    "avg_by_hour = []\n",
    "\n",
    "for key in counts_by_hour:\n",
    "    \n",
    "    post_count = counts_by_hour[key]\n",
    "    comment_count = comments_by_hour[key]\n",
    "    avg_by_hour.append([key, comment_count / post_count])"
   ]
  },
  {
   "cell_type": "markdown",
   "id": "498e0662",
   "metadata": {},
   "source": [
    "Let's improve the readability"
   ]
  },
  {
   "cell_type": "code",
   "execution_count": 118,
   "id": "d115ef54",
   "metadata": {},
   "outputs": [
    {
     "name": "stdout",
     "output_type": "stream",
     "text": [
      "Top 5 Hours for Ask Posts Comments\n",
      "15:00: 28.68 average comments per post\n",
      "13:00: 16.32 average comments per post\n",
      "12:00: 12.38 average comments per post\n",
      "02:00: 11.14 average comments per post\n",
      "10:00: 10.68 average comments per post\n"
     ]
    }
   ],
   "source": [
    "swap_avg_by_hour = []\n",
    "\n",
    "for l in avg_by_hour:\n",
    "    swap_avg_by_hour.append([l[1], l[0]])\n",
    "    \n",
    "sorted_swap = sorted(swap_avg_by_hour, reverse=True)\n",
    "\n",
    "print(\"Top 5 Hours for Ask Posts Comments\")\n",
    "\n",
    "for l in sorted_swap[:5]:\n",
    "    \n",
    "    print(\"{hour}:00: {count:.2f} average comments per post\".format(hour=l[1], count=l[0]))"
   ]
  },
  {
   "cell_type": "markdown",
   "id": "5fcb2f81",
   "metadata": {},
   "source": [
    "We can conclude that's creating a post during **15:00** or **13:00** yields the best results when we want to maximize the chance of receiving comments.\n",
    "\n",
    "This is most likely the end of a workday or during a lunch break for most of the users visiting the Hacker News website."
   ]
  }
 ],
 "metadata": {
  "kernelspec": {
   "display_name": "Python 3 (ipykernel)",
   "language": "python",
   "name": "python3"
  },
  "language_info": {
   "codemirror_mode": {
    "name": "ipython",
    "version": 3
   },
   "file_extension": ".py",
   "mimetype": "text/x-python",
   "name": "python",
   "nbconvert_exporter": "python",
   "pygments_lexer": "ipython3",
   "version": "3.9.13"
  }
 },
 "nbformat": 4,
 "nbformat_minor": 5
}

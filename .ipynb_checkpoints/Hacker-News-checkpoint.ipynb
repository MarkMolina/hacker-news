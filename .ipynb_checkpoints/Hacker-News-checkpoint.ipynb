{
 "cells": [
  {
   "cell_type": "markdown",
   "id": "55cba0c9",
   "metadata": {},
   "source": [
    "# Hacker News\n",
    "## Ask HN vs Show HN\n",
    "\n",
    "Hacker News is a site started by the startup incubator Y Combinator, where user-submitted stories (known as \"posts\") receive votes and comments, similar to reddit. Hacker News is extremely popular in technology and startup circles, and posts that make it to the top of the Hacker News listings can get hundreds of thousands of visitors as a result.\n",
    "\n",
    "You can find the data set [here](https://www.kaggle.com/datasets/hacker-news/hacker-news-posts)."
   ]
  },
  {
   "cell_type": "code",
   "execution_count": null,
   "id": "f03f2550",
   "metadata": {},
   "outputs": [],
   "source": [
    "from csv import reader\n",
    "read_file = read(\"datasets/HackerNews.csv\")"
   ]
  }
 ],
 "metadata": {
  "kernelspec": {
   "display_name": "Python 3 (ipykernel)",
   "language": "python",
   "name": "python3"
  },
  "language_info": {
   "codemirror_mode": {
    "name": "ipython",
    "version": 3
   },
   "file_extension": ".py",
   "mimetype": "text/x-python",
   "name": "python",
   "nbconvert_exporter": "python",
   "pygments_lexer": "ipython3",
   "version": "3.9.13"
  }
 },
 "nbformat": 4,
 "nbformat_minor": 5
}
